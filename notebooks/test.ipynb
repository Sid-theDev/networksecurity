{
 "cells": [
  {
   "cell_type": "code",
   "execution_count": 6,
   "metadata": {},
   "outputs": [
    {
     "name": "stdout",
     "output_type": "stream",
     "text": [
      "2 2\n"
     ]
    }
   ],
   "source": [
    "import numpy as np\n",
    "\n",
    "data_train = np.load(\"C:/Users/Siddhanth/Desktop/Udemy Course/Projects/NetworkSecurity/Artifacts/03_27_2025_03_19_46/data_transformation/transformed/train.npy\")\n",
    "data_test = np.load(\"C:/Users/Siddhanth/Desktop/Udemy Course/Projects/NetworkSecurity/Artifacts/03_27_2025_03_19_46/data_transformation/transformed/test.npy\")\n",
    "\n",
    "\n",
    "print(data_train.ndim, data_test.ndim) \n"
   ]
  },
  {
   "cell_type": "code",
   "execution_count": null,
   "metadata": {},
   "outputs": [],
   "source": []
  }
 ],
 "metadata": {
  "kernelspec": {
   "display_name": "notebook",
   "language": "python",
   "name": "python3"
  },
  "language_info": {
   "codemirror_mode": {
    "name": "ipython",
    "version": 3
   },
   "file_extension": ".py",
   "mimetype": "text/x-python",
   "name": "python",
   "nbconvert_exporter": "python",
   "pygments_lexer": "ipython3",
   "version": "3.11.5"
  }
 },
 "nbformat": 4,
 "nbformat_minor": 2
}
